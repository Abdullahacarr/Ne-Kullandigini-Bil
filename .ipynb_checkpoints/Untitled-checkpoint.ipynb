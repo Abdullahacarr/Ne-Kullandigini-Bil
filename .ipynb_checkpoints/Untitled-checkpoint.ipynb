{
 "cells": [
  {
   "cell_type": "code",
   "execution_count": 2,
   "metadata": {},
   "outputs": [
    {
     "name": "stdout",
     "output_type": "stream",
     "text": [
      "Sentence,NegPos\n",
      "sorunsuz hızlı teslimat teşekkürler\n",
      "dün sipariş ettim bugün elimde. paketleme özenli teşekkürler ☺\n",
      "Hızlı kargolama ,güvenli alışveriş.  Sızma yok fakat bir ürün hafif\n",
      "ezilmişti.  Sıkıntı yok ama. çok hızlı gönderim.\n",
      "Kokusu için amenna hoş ama kalıcı değil. Diğer markalar varken en azından saçınız için tercih etmeyin.\n",
      "HOŞ KOKUSU VAR FİYATIDA UYGUN ÖNERİRİM.\n",
      "Üründe herhangi bir açılma dökülme vs yoktu çok güzel ambalajlanmıştı\n",
      "teşekkür ediyorum.\n",
      "Ürünler gayet güzel. Çeşit için teşekkürler. Esnaf satıcı...\n",
      "\n"
     ]
    }
   ],
   "source": [
    "from bs4 import BeautifulSoup\n",
    "import urllib.request\n",
    "import pandas as pd\n",
    "url = \"https://yorumbudur.com/yorumlar/93750/avon-bogurtlen-ve-hibiskus-700-ml-sampuan-yorumlari\"\n",
    "url_oku = urllib.request.urlopen(url)\n",
    "soup = BeautifulSoup(url_oku, 'html.parser')\n",
    "icerik = soup.find_all('div',attrs={'class':'review-content'})\n",
    "meta = soup.find_all('div',attrs={'class':'queue'})\n",
    "c=\"\"\n",
    "fo = open(\"dosya.txt\", \"w\",encoding=\"utf-8\")\n",
    "\n",
    "c+=\"Sentence,NegPos\\n\"\n",
    "for a in icerik:\n",
    "    c+=a.contents[0].strip()+\"\\n\"\n",
    "    \n",
    "print(c)\n",
    "fo.write(c)\n",
    "fo.close()\n"
   ]
  },
  {
   "cell_type": "code",
   "execution_count": 11,
   "metadata": {},
   "outputs": [
    {
     "name": "stdout",
     "output_type": "stream",
     "text": [
      "                                            Sentence  NegPos\n",
      "0                sorunsuz hızlı teslimat teşekkürler       1\n",
      "1  dün sipariş ettim bugün elimde. paketleme özen...       1\n",
      "2  Hızlı kargolama güvenli alışveriş. Sızma yok f...       1\n",
      "3  Kokusu için amenna hoş ama kalıcı değil. Diğer...       0\n",
      "4            HOŞ KOKUSU VAR FİYATIDA UYGUN ÖNERİRİM.       1\n",
      "5  Üründe herhangi bir açılma dökülme vs yoktu ço...       1\n",
      "6  Ürünler gayet güzel. Çeşit için teşekkürler. E...       1\n"
     ]
    }
   ],
   "source": [
    "import pandas as pd\n",
    "from sklearn.feature_extraction.text import TfidfVectorizer\n",
    "data = pd.read_csv(\"dosya.txt\", engine='python', encoding=\"utf-8\")\n",
    "print(data)\n",
    "\n",
    "sentences_training = [doc for doc in data.iloc[:,0]]\n",
    "classification_training = [doc for doc in data.iloc[:,1]]\n",
    "vectorizer = TfidfVectorizer(analyzer='word', lowercase = True)\n",
    "\n",
    "sen_train_vector = vectorizer.fit_transform(sentences_training)\n",
    "print(sen_train_vector.toarray())"
   ]
  },
  {
   "cell_type": "code",
   "execution_count": null,
   "metadata": {},
   "outputs": [],
   "source": []
  },
  {
   "cell_type": "code",
   "execution_count": null,
   "metadata": {},
   "outputs": [],
   "source": []
  }
 ],
 "metadata": {
  "kernelspec": {
   "display_name": "Python 3",
   "language": "python",
   "name": "python3"
  },
  "language_info": {
   "codemirror_mode": {
    "name": "ipython",
    "version": 3
   },
   "file_extension": ".py",
   "mimetype": "text/x-python",
   "name": "python",
   "nbconvert_exporter": "python",
   "pygments_lexer": "ipython3",
   "version": "3.7.4"
  }
 },
 "nbformat": 4,
 "nbformat_minor": 2
}
